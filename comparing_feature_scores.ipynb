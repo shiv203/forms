{
 "cells": [
  {
   "cell_type": "code",
   "execution_count": 1,
   "metadata": {},
   "outputs": [],
   "source": [
    "import os\n",
    "import json\n",
    "import cv2\n",
    "import numpy as np\n",
    "import random\n",
    "import matplotlib.pyplot as plt"
   ]
  },
  {
   "cell_type": "code",
   "execution_count": 2,
   "metadata": {},
   "outputs": [
    {
     "data": {
      "text/plain": [
       "135"
      ]
     },
     "execution_count": 2,
     "metadata": {},
     "output_type": "execute_result"
    }
   ],
   "source": [
    "image_files = []\n",
    "for r,d, f in os.walk(\"/home/local/ZOHOCORP/shiva-8700/forms/datasets/pdfimg/pdfimg/\"):\n",
    "    for i in f:\n",
    "        if i[0] != \".\" and \"checkpoint\" not in i and \"h\" not in i:\n",
    "            image_files.append(\"/home/local/ZOHOCORP/shiva-8700/forms/datasets/pdfimg/pdfimg/\" + i)\n",
    "len(image_files)"
   ]
  },
  {
   "cell_type": "code",
   "execution_count": 3,
   "metadata": {},
   "outputs": [],
   "source": [
    "paths = {}\n",
    "for name in image_files:\n",
    "    file_name = name.split(\"/\")[-1]\n",
    "    paths[name] = {}\n",
    "    paths[name][\"orginal_labels\"] = \"/home/local/ZOHOCORP/shiva-8700/forms/datasets/pdfimg-labels/\" + file_name + \"_labels.json\"\n",
    "    paths[name][\"features\"] = \"/home/local/ZOHOCORP/shiva-8700/forms/api/updated/src/jsonfiles/\"   + file_name[:-4] + \".json\""
   ]
  },
  {
   "cell_type": "code",
   "execution_count": null,
   "metadata": {},
   "outputs": [],
   "source": []
  },
  {
   "cell_type": "code",
   "execution_count": 4,
   "metadata": {},
   "outputs": [],
   "source": [
    "def intersection_over_union(box_A, box_B):\n",
    "    \"\"\" find the intersection over union of two bounding box \"\"\"\n",
    "     \n",
    "    assert box_A[0] < box_A[2]\n",
    "    assert box_A[1] < box_A[3]\n",
    "    assert box_B[0] < box_B[2]\n",
    "    assert box_B[1] < box_B[3]\n",
    "\n",
    "    # determine the coordinates of the intersection rectangle\n",
    "    x_left = max(box_A[0], box_B[0])\n",
    "    y_top = max(box_A[1], box_B[1])\n",
    "    x_right = min(box_A[2], box_B[2])\n",
    "    y_bottom = min(box_A[3], box_B[3])\n",
    "\n",
    "    if x_right < x_left or y_bottom < y_top:\n",
    "        return 0.0\n",
    "\n",
    "    # The intersection of two axis-aligned bounding boxes is always an\n",
    "    # axis-aligned bounding box\n",
    "    intersection_area = (x_right - x_left) * (y_bottom - y_top)\n",
    "\n",
    "    # compute the area of both AABBs\n",
    "    bb1_area = (box_A[2] - box_A[0]) * (box_A[3] - box_A[1])\n",
    "    bb2_area = (box_B[2] - box_B[0]) * (box_B[3] - box_B[1])\n",
    "\n",
    "    # compute the intersection over union by taking the intersection\n",
    "    # area and dividing it by the sum of prediction + ground-truth\n",
    "    # areas - the interesection area\n",
    "    iou = intersection_area / float(bb1_area + bb2_area - intersection_area)\n",
    "    assert iou >= 0.0\n",
    "    assert iou <= 1.0\n",
    "    return iou\n",
    "\n",
    "    pass\n",
    "\n",
    "def match_ids(file_name):\n",
    "    \"\"\" given different json files match all ids add new ids and add links \"\"\"\n",
    "    pass"
   ]
  },
  {
   "cell_type": "code",
   "execution_count": 5,
   "metadata": {},
   "outputs": [],
   "source": [
    "# after saved data do the necessary statistical data"
   ]
  },
  {
   "cell_type": "code",
   "execution_count": 6,
   "metadata": {},
   "outputs": [],
   "source": [
    "for tmp in range(len(image_files)):\n",
    "    file = image_files[tmp]\n",
    "    gt_name = paths[file][\"orginal_labels\"]\n",
    "    feature_name = paths[file][\"features\"]\n",
    "    fn = feature_name.split(\"/\")[-1]\n",
    "    try:\n",
    "        with open(gt_name, \"r\") as f:\n",
    "            gt = json.load(f)\n",
    "        with open(feature_name, \"r\") as f:\n",
    "            feature = json.load(f)\n",
    "    except:\n",
    "        continue\n",
    "\n",
    "    ## link labels id -> bbox\n",
    "    take_features = {}\n",
    "    ## add all form field add all neigbors\n",
    "    for key in feature:\n",
    "        take_features[key] = feature[key][\"features\"][\"bbox\"]\n",
    "        for key_1 in feature[key][\"neighbors\"]:\n",
    "            if key_1 not in take_features:\n",
    "                take_features[key_1] = feature[key][\"neighbors\"][key_1][\"bbox\"]\n",
    "\n",
    "    id_match = {}\n",
    "    for key in gt[\"ele\"]:\n",
    "        for key_1 in take_features:\n",
    "            if intersection_over_union(gt[\"ele\"][key][:4], take_features[key_1]) > 0.75:\n",
    "                id_match[key] = key_1\n",
    "                break\n",
    "\n",
    "    #print(len(take_features), len(gt[\"ele\"]))\n",
    "    ## add links to features:\n",
    "    feature[\"links\"] = []\n",
    "    for link in gt[\"links\"]:\n",
    "        if link[0]  in id_match and link[1]  in id_match:\n",
    "            feature[\"links\"].append([id_match[link[0]], id_match[link[1]]])\n",
    "\n",
    "    #print(feature)\n",
    "    \n",
    "    with open(\"./jsonfiles/\"+fn, \"w\") as f:\n",
    "        json.dump(feature, f)\n",
    "    \n",
    "\n",
    "\n",
    "\n",
    "\n"
   ]
  },
  {
   "cell_type": "code",
   "execution_count": 7,
   "metadata": {},
   "outputs": [
    {
     "data": {
      "text/plain": [
       "(17, 18)"
      ]
     },
     "execution_count": 7,
     "metadata": {},
     "output_type": "execute_result"
    }
   ],
   "source": [
    "len(feature[\"links\"]), len(gt[\"links\"])"
   ]
  },
  {
   "cell_type": "code",
   "execution_count": 77,
   "metadata": {},
   "outputs": [
    {
     "data": {
      "text/plain": [
       "0"
      ]
     },
     "execution_count": 77,
     "metadata": {},
     "output_type": "execute_result"
    }
   ],
   "source": [
    "c = 0\n",
    "for l in gt[\"links\"]:\n",
    "    if l[0] not in gt[\"ele\"] or l[1] not in gt[\"ele\"]:\n",
    "        c += 1\n",
    "c"
   ]
  },
  {
   "cell_type": "code",
   "execution_count": 78,
   "metadata": {},
   "outputs": [],
   "source": [
    "## display to check annotations"
   ]
  },
  {
   "cell_type": "code",
   "execution_count": 9,
   "metadata": {},
   "outputs": [
    {
     "data": {
      "text/plain": [
       "134"
      ]
     },
     "execution_count": 9,
     "metadata": {},
     "output_type": "execute_result"
    }
   ],
   "source": [
    "files = []\n",
    "for _,_,f in os.walk(\"./jsonfiles/\"):\n",
    "    for i in f:\n",
    "        files.append(\"./jsonfiles/\" + i)\n",
    "len(files)"
   ]
  },
  {
   "cell_type": "code",
   "execution_count": 17,
   "metadata": {},
   "outputs": [],
   "source": [
    "box_data = []\n",
    "## display\n",
    "color = [(122,0,122), (0,255,0), (255,0,0), (0,0,122)]\n",
    "tmp = random.randint(0, len(files) - 1)\n",
    "for tmp in range(len(files)):\n",
    "    file = files[tmp]\n",
    "    fn = file.split(\"/\")[-1]\n",
    "    imgpath = \"/home/local/ZOHOCORP/shiva-8700/forms/datasets/pdfimg/pdfimg/\" + fn[:-5] + \".jpg\"\n",
    "    #print(imgpath)\n",
    "    img = cv2.imread(imgpath)\n",
    "    #print(img.shape)\n",
    "    with open(file, \"r\") as f:\n",
    "        data = json.load(f)\n",
    "    ## plot every bbox based on class color\n",
    "    for key in data:\n",
    "        if key != \"links\":\n",
    "            bbox = data[key][\"features\"][\"bbox\"]\n",
    "            v = data[key][\"features\"][\"class\"]\n",
    "            cv2.rectangle(img, (bbox[0], bbox[1]), (bbox[2], bbox[3]), color[v], 6)\n",
    "\n",
    "\n",
    "    data_all = []\n",
    "    for key in data:\n",
    "        if key != \"links\":\n",
    "            for key1 in data[key][\"neighbors\"]:   \n",
    "                if data[key][\"features\"][\"class\"] == 0:\n",
    "                    data_all.append([key, key1, 0])\n",
    "                elif data[key][\"features\"][\"class\"] == 1:\n",
    "                    data_all.append([key, key1, 1])\n",
    "                elif data[key][\"features\"][\"class\"] == 2:\n",
    "                    data_all.append([key, key1, 2])\n",
    "\n",
    "\n",
    "    ## display links\n",
    "    for l in data[\"links\"]:\n",
    "        bbox1 = data[l[0]][\"features\"][\"bbox\"]\n",
    "        bbox2 = data[l[1]][\"features\"][\"bbox\"]\n",
    "        c1 = ((bbox1[0] + bbox1[2])//2, (bbox1[1] + bbox1[3])//2)\n",
    "        c2 = ((bbox2[0] + bbox2[2])//2, (bbox2[1] + bbox2[3])//2)\n",
    "        cv2.line(img, (c1[0], c1[1]), (c2[0], c2[1]), (255, 0, 0), 6)\n",
    "\n",
    "    \n",
    "\n",
    "\n",
    "    for d in data_all:\n",
    "        if d[2] == 2:\n",
    "            data_temp = data[d[0]][\"neighbors\"][d[1]]\n",
    "            box1 = data[d[0]][\"features\"][\"bbox\"]\n",
    "            box2 = data[d[0]][\"neighbors\"][d[1]][\"bbox\"]\n",
    "            data_temp_features = data_temp[\"distance\"] + data_temp[\"distance_score\"] + data_temp[\"angle\"] + data_temp[\"xintersection\"] + data_temp[\"yintersection\"]\n",
    "            if [d[0], d[1]] in data[\"links\"]:\n",
    "                label = [1]\n",
    "            else:\n",
    "                label = [0]\n",
    "            #print(data_temp_features, label)\n",
    "            box_data.append(box1 + box2 + data_temp_features + label)\n",
    "\n",
    "    \n",
    "            \n",
    "\n",
    "    ## get entire dict classify it as form -> text seperate via class and save \n",
    "\n",
    "\n",
    "#plt.figure(figsize=(10, 10))\n",
    "#plt.imshow(img)\n",
    "#plt.show()\n"
   ]
  },
  {
   "cell_type": "code",
   "execution_count": 11,
   "metadata": {},
   "outputs": [
    {
     "ename": "NameError",
     "evalue": "name 'all_neighbor_pairs' is not defined",
     "output_type": "error",
     "traceback": [
      "\u001b[0;31m---------------------------------------------------------------------------\u001b[0m",
      "\u001b[0;31mNameError\u001b[0m                                 Traceback (most recent call last)",
      "\u001b[0;32m<ipython-input-11-c95a0359a705>\u001b[0m in \u001b[0;36m<module>\u001b[0;34m\u001b[0m\n\u001b[0;32m----> 1\u001b[0;31m \u001b[0mlen\u001b[0m\u001b[0;34m(\u001b[0m\u001b[0mall_neighbor_pairs\u001b[0m\u001b[0;34m)\u001b[0m\u001b[0;34m,\u001b[0m \u001b[0mlen\u001b[0m\u001b[0;34m(\u001b[0m\u001b[0mdata\u001b[0m\u001b[0;34m[\u001b[0m\u001b[0;34m\"links\"\u001b[0m\u001b[0;34m]\u001b[0m\u001b[0;34m)\u001b[0m\u001b[0;34m\u001b[0m\u001b[0;34m\u001b[0m\u001b[0m\n\u001b[0m",
      "\u001b[0;31mNameError\u001b[0m: name 'all_neighbor_pairs' is not defined"
     ]
    }
   ],
   "source": [
    "len(all_neighbor_pairs), len(data[\"links\"])"
   ]
  },
  {
   "cell_type": "code",
   "execution_count": 132,
   "metadata": {},
   "outputs": [
    {
     "data": {
      "text/plain": [
       "{'distance': 7.002857560004646,\n",
       " 'distance_score': 0.7330030858218309,\n",
       " 'angle': 179.2988942984248,\n",
       " 'xintersection': 0.014056224899598393,\n",
       " 'yintersection': 1.0,\n",
       " 'bbox': [275, 2053, 773, 2131],\n",
       " 'id': 70,\n",
       " 'class': 3}"
      ]
     },
     "execution_count": 132,
     "metadata": {},
     "output_type": "execute_result"
    }
   ],
   "source": [
    "data[\"0\"][\"neighbors\"][\"70\"]"
   ]
  },
  {
   "cell_type": "code",
   "execution_count": 18,
   "metadata": {},
   "outputs": [
    {
     "data": {
      "text/plain": [
       "(8130, 142)"
      ]
     },
     "execution_count": 18,
     "metadata": {},
     "output_type": "execute_result"
    }
   ],
   "source": [
    "box_data_all = np.array(box_data)\n",
    "box_data_all.shape"
   ]
  },
  {
   "cell_type": "code",
   "execution_count": 19,
   "metadata": {},
   "outputs": [],
   "source": [
    "np.save(\"line_plus.npy\", box_data_all)"
   ]
  },
  {
   "cell_type": "code",
   "execution_count": null,
   "metadata": {},
   "outputs": [],
   "source": []
  }
 ],
 "metadata": {
  "interpreter": {
   "hash": "430fb9cf6aa89a82125fdf486f04ae860c70f4d4d50964e4be8895920f95d32c"
  },
  "kernelspec": {
   "display_name": "Python 3.6.13 64-bit ('forms': conda)",
   "name": "python3"
  },
  "language_info": {
   "codemirror_mode": {
    "name": "ipython",
    "version": 3
   },
   "file_extension": ".py",
   "mimetype": "text/x-python",
   "name": "python",
   "nbconvert_exporter": "python",
   "pygments_lexer": "ipython3",
   "version": "3.6.13"
  },
  "orig_nbformat": 4
 },
 "nbformat": 4,
 "nbformat_minor": 2
}
